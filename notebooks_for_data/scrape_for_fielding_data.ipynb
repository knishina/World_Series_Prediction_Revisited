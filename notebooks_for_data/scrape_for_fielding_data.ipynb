{
 "cells": [
  {
   "cell_type": "markdown",
   "metadata": {},
   "source": [
    "## Purpose: Get the stats for fielding per year (1876-2019)."
   ]
  },
  {
   "cell_type": "code",
   "execution_count": 1,
   "metadata": {},
   "outputs": [],
   "source": [
    "# import dependencies.\n",
    "import time\n",
    "import pandas as pd\n",
    "from splinter import Browser\n",
    "from bs4 import BeautifulSoup as bs"
   ]
  },
  {
   "cell_type": "code",
   "execution_count": 2,
   "metadata": {},
   "outputs": [
    {
     "name": "stdout",
     "output_type": "stream",
     "text": [
      "/usr/local/bin/chromedriver\r\n"
     ]
    }
   ],
   "source": [
    "!which chromedriver"
   ]
  },
  {
   "cell_type": "code",
   "execution_count": 3,
   "metadata": {},
   "outputs": [],
   "source": [
    "# set up driver.\n",
    "executable_path = {\"executable_path\": \"/usr/local/bin/chromedriver\"}\n",
    "browser = Browser(\"chrome\", **executable_path, headless=False)"
   ]
  },
  {
   "cell_type": "code",
   "execution_count": 4,
   "metadata": {},
   "outputs": [],
   "source": [
    "# Grab the data into lists.\n",
    "fielding_data = []\n",
    "\n",
    "for year in range(2019, 1875, -1):\n",
    "    year = str(year)\n",
    "    url = \"http://mlb.mlb.com/stats/sortable.jsp#elem=%5Bobject+Object%5D&tab_level=child&click_text=Sortable+Team+fielding&game_type='R'&season=\"+year+\"&season_type=ANY&league_code='MLB'&sectionType=st&statType=fielding&page=1&ts=1564284558293&playerType=QUALIFIER&sportCode='mlb'&split=&team_id=&active_sw=&position='1'&page_type=SortablePlayer&sortOrder='desc'&sortColumn=fpct&results=&perPage=50&timeframe=&last_x_days=&extended=2\" \n",
    "    \n",
    "    browser.visit(url)\n",
    "    html = browser.html\n",
    "    soup = bs(html, \"html.parser\")\n",
    "    a = soup.find(\"tbody\")\n",
    "    time.sleep(20)\n",
    "    for tr in a:\n",
    "        team_data = {}\n",
    "        team_data[\"year\"] = year\n",
    "        team_data[\"team\"] = tr.find(\"td\", class_=\"dg-team_full\").text\n",
    "        team_data[\"G2\"] = tr.find(\"td\", class_=\"dg-g\").text\n",
    "        team_data[\"GS2\"] = tr.find(\"td\", class_=\"dg-gs\").text\n",
    "        team_data[\"INN\"] = tr.find(\"td\", class_=\"dg-inn\").text\n",
    "        team_data[\"TC\"] = tr.find(\"td\", class_=\"dg-tc\").text\n",
    "        team_data[\"PO\"] = tr.find(\"td\", class_=\"dg-po\").text\n",
    "        team_data[\"A\"] = tr.find(\"td\", class_=\"dg-a\").text\n",
    "        team_data[\"E\"] = tr.find(\"td\", class_=\"dg-e\").text\n",
    "        team_data[\"DP\"] = tr.find(\"td\", class_=\"dg-dp\").text\n",
    "        team_data[\"SB2\"] = tr.find(\"td\", class_=\"dg-sb\").text\n",
    "        team_data[\"CS2\"] = tr.find(\"td\", class_=\"dg-cs\").text\n",
    "        team_data[\"SBPCT\"] = tr.find(\"td\", class_=\"dg-sbpct\").text\n",
    "        team_data[\"PB\"] = tr.find(\"td\", class_=\"dg-pb\").text\n",
    "        team_data[\"C_WP\"] = tr.find(\"td\", class_=\"dg-c_wp\").text\n",
    "        team_data[\"DER\"] = tr.find(\"td\", class_=\"dg-der\").text\n",
    "        fielding_data.append(team_data)\n",
    "        team_data = {}"
   ]
  },
  {
   "cell_type": "code",
   "execution_count": 7,
   "metadata": {},
   "outputs": [
    {
     "data": {
      "text/html": [
       "<div>\n",
       "<style scoped>\n",
       "    .dataframe tbody tr th:only-of-type {\n",
       "        vertical-align: middle;\n",
       "    }\n",
       "\n",
       "    .dataframe tbody tr th {\n",
       "        vertical-align: top;\n",
       "    }\n",
       "\n",
       "    .dataframe thead th {\n",
       "        text-align: right;\n",
       "    }\n",
       "</style>\n",
       "<table border=\"1\" class=\"dataframe\">\n",
       "  <thead>\n",
       "    <tr style=\"text-align: right;\">\n",
       "      <th></th>\n",
       "      <th>A</th>\n",
       "      <th>CS2</th>\n",
       "      <th>C_WP</th>\n",
       "      <th>DER</th>\n",
       "      <th>DP</th>\n",
       "      <th>E</th>\n",
       "      <th>G2</th>\n",
       "      <th>GS2</th>\n",
       "      <th>INN</th>\n",
       "      <th>PB</th>\n",
       "      <th>PO</th>\n",
       "      <th>SB2</th>\n",
       "      <th>SBPCT</th>\n",
       "      <th>TC</th>\n",
       "      <th>team</th>\n",
       "      <th>year</th>\n",
       "    </tr>\n",
       "  </thead>\n",
       "  <tbody>\n",
       "    <tr>\n",
       "      <th>0</th>\n",
       "      <td>1033</td>\n",
       "      <td>15</td>\n",
       "      <td>21</td>\n",
       "      <td>.706</td>\n",
       "      <td>114</td>\n",
       "      <td>43</td>\n",
       "      <td>104</td>\n",
       "      <td>936</td>\n",
       "      <td>8313.0</td>\n",
       "      <td>3</td>\n",
       "      <td>2771</td>\n",
       "      <td>20</td>\n",
       "      <td>.571</td>\n",
       "      <td>3847</td>\n",
       "      <td>St. Louis Cardinals</td>\n",
       "      <td>2019</td>\n",
       "    </tr>\n",
       "    <tr>\n",
       "      <th>1</th>\n",
       "      <td>1010</td>\n",
       "      <td>21</td>\n",
       "      <td>35</td>\n",
       "      <td>.699</td>\n",
       "      <td>83</td>\n",
       "      <td>45</td>\n",
       "      <td>105</td>\n",
       "      <td>945</td>\n",
       "      <td>8538.0</td>\n",
       "      <td>2</td>\n",
       "      <td>2846</td>\n",
       "      <td>26</td>\n",
       "      <td>.553</td>\n",
       "      <td>3901</td>\n",
       "      <td>Arizona Diamondbacks</td>\n",
       "      <td>2019</td>\n",
       "    </tr>\n",
       "    <tr>\n",
       "      <th>2</th>\n",
       "      <td>990</td>\n",
       "      <td>15</td>\n",
       "      <td>34</td>\n",
       "      <td>.679</td>\n",
       "      <td>105</td>\n",
       "      <td>45</td>\n",
       "      <td>106</td>\n",
       "      <td>954</td>\n",
       "      <td>8421.0</td>\n",
       "      <td>6</td>\n",
       "      <td>2807</td>\n",
       "      <td>38</td>\n",
       "      <td>.717</td>\n",
       "      <td>3842</td>\n",
       "      <td>Kansas City Royals</td>\n",
       "      <td>2019</td>\n",
       "    </tr>\n",
       "    <tr>\n",
       "      <th>3</th>\n",
       "      <td>875</td>\n",
       "      <td>13</td>\n",
       "      <td>31</td>\n",
       "      <td>.725</td>\n",
       "      <td>54</td>\n",
       "      <td>50</td>\n",
       "      <td>106</td>\n",
       "      <td>954</td>\n",
       "      <td>8589.0</td>\n",
       "      <td>6</td>\n",
       "      <td>2863</td>\n",
       "      <td>55</td>\n",
       "      <td>.809</td>\n",
       "      <td>3788</td>\n",
       "      <td>Houston Astros</td>\n",
       "      <td>2019</td>\n",
       "    </tr>\n",
       "    <tr>\n",
       "      <th>4</th>\n",
       "      <td>975</td>\n",
       "      <td>23</td>\n",
       "      <td>40</td>\n",
       "      <td>.704</td>\n",
       "      <td>92</td>\n",
       "      <td>53</td>\n",
       "      <td>107</td>\n",
       "      <td>963</td>\n",
       "      <td>8760.0</td>\n",
       "      <td>11</td>\n",
       "      <td>2920</td>\n",
       "      <td>46</td>\n",
       "      <td>.667</td>\n",
       "      <td>3948</td>\n",
       "      <td>Tampa Bay Rays</td>\n",
       "      <td>2019</td>\n",
       "    </tr>\n",
       "  </tbody>\n",
       "</table>\n",
       "</div>"
      ],
      "text/plain": [
       "      A CS2 C_WP   DER   DP   E   G2  GS2     INN  PB    PO SB2 SBPCT    TC  \\\n",
       "0  1033  15   21  .706  114  43  104  936  8313.0   3  2771  20  .571  3847   \n",
       "1  1010  21   35  .699   83  45  105  945  8538.0   2  2846  26  .553  3901   \n",
       "2   990  15   34  .679  105  45  106  954  8421.0   6  2807  38  .717  3842   \n",
       "3   875  13   31  .725   54  50  106  954  8589.0   6  2863  55  .809  3788   \n",
       "4   975  23   40  .704   92  53  107  963  8760.0  11  2920  46  .667  3948   \n",
       "\n",
       "                   team  year  \n",
       "0   St. Louis Cardinals  2019  \n",
       "1  Arizona Diamondbacks  2019  \n",
       "2    Kansas City Royals  2019  \n",
       "3        Houston Astros  2019  \n",
       "4        Tampa Bay Rays  2019  "
      ]
     },
     "execution_count": 7,
     "metadata": {},
     "output_type": "execute_result"
    }
   ],
   "source": [
    "fielding_data = pd.DataFrame(fielding_data)\n",
    "fielding_data.head()"
   ]
  },
  {
   "cell_type": "code",
   "execution_count": 8,
   "metadata": {},
   "outputs": [],
   "source": [
    "fielding_data.to_csv(\"../Resources/fielding_data.csv\")"
   ]
  },
  {
   "cell_type": "code",
   "execution_count": null,
   "metadata": {},
   "outputs": [],
   "source": []
  }
 ],
 "metadata": {
  "kernelspec": {
   "display_name": "Python [conda env:PythonData]",
   "language": "python",
   "name": "conda-env-PythonData-py"
  },
  "language_info": {
   "codemirror_mode": {
    "name": "ipython",
    "version": 3
   },
   "file_extension": ".py",
   "mimetype": "text/x-python",
   "name": "python",
   "nbconvert_exporter": "python",
   "pygments_lexer": "ipython3",
   "version": "3.6.7"
  }
 },
 "nbformat": 4,
 "nbformat_minor": 2
}
