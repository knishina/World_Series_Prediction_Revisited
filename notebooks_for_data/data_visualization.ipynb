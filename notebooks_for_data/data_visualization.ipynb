{
 "cells": [
  {
   "cell_type": "markdown",
   "metadata": {},
   "source": [
    "## Purpose: Visualizations."
   ]
  },
  {
   "cell_type": "code",
   "execution_count": 20,
   "metadata": {},
   "outputs": [],
   "source": [
    "# import dependencies.\n",
    "import pandas as pd\n",
    "import matplotlib.pyplot as plt\n",
    "import seaborn as sns\n",
    "\n",
    "%matplotlib inline"
   ]
  },
  {
   "cell_type": "markdown",
   "metadata": {},
   "source": [
    "### STEP1: Read in datasets."
   ]
  },
  {
   "cell_type": "code",
   "execution_count": 7,
   "metadata": {},
   "outputs": [
    {
     "data": {
      "text/html": [
       "<div>\n",
       "<style scoped>\n",
       "    .dataframe tbody tr th:only-of-type {\n",
       "        vertical-align: middle;\n",
       "    }\n",
       "\n",
       "    .dataframe tbody tr th {\n",
       "        vertical-align: top;\n",
       "    }\n",
       "\n",
       "    .dataframe thead th {\n",
       "        text-align: right;\n",
       "    }\n",
       "</style>\n",
       "<table border=\"1\" class=\"dataframe\">\n",
       "  <thead>\n",
       "    <tr style=\"text-align: right;\">\n",
       "      <th></th>\n",
       "      <th>team</th>\n",
       "      <th>year</th>\n",
       "      <th>A</th>\n",
       "      <th>DP</th>\n",
       "      <th>E</th>\n",
       "      <th>G2</th>\n",
       "      <th>GS2</th>\n",
       "      <th>INN</th>\n",
       "      <th>PB</th>\n",
       "      <th>PO</th>\n",
       "      <th>...</th>\n",
       "      <th>R1</th>\n",
       "      <th>SHO</th>\n",
       "      <th>SO1</th>\n",
       "      <th>SV</th>\n",
       "      <th>TBF</th>\n",
       "      <th>W</th>\n",
       "      <th>WHIP</th>\n",
       "      <th>WP</th>\n",
       "      <th>WPCT</th>\n",
       "      <th>winners</th>\n",
       "    </tr>\n",
       "  </thead>\n",
       "  <tbody>\n",
       "    <tr>\n",
       "      <th>0</th>\n",
       "      <td>St. Louis Cardinals</td>\n",
       "      <td>2019</td>\n",
       "      <td>1033</td>\n",
       "      <td>114</td>\n",
       "      <td>43</td>\n",
       "      <td>104</td>\n",
       "      <td>936</td>\n",
       "      <td>8313.0</td>\n",
       "      <td>3</td>\n",
       "      <td>2771</td>\n",
       "      <td>...</td>\n",
       "      <td>456</td>\n",
       "      <td>4</td>\n",
       "      <td>895</td>\n",
       "      <td>33</td>\n",
       "      <td>3896</td>\n",
       "      <td>56</td>\n",
       "      <td>1.29</td>\n",
       "      <td>21</td>\n",
       "      <td>0.538</td>\n",
       "      <td>0</td>\n",
       "    </tr>\n",
       "    <tr>\n",
       "      <th>1</th>\n",
       "      <td>Arizona Diamondbacks</td>\n",
       "      <td>2019</td>\n",
       "      <td>1010</td>\n",
       "      <td>83</td>\n",
       "      <td>45</td>\n",
       "      <td>105</td>\n",
       "      <td>945</td>\n",
       "      <td>8538.0</td>\n",
       "      <td>2</td>\n",
       "      <td>2846</td>\n",
       "      <td>...</td>\n",
       "      <td>472</td>\n",
       "      <td>7</td>\n",
       "      <td>925</td>\n",
       "      <td>24</td>\n",
       "      <td>4001</td>\n",
       "      <td>53</td>\n",
       "      <td>1.28</td>\n",
       "      <td>35</td>\n",
       "      <td>0.505</td>\n",
       "      <td>0</td>\n",
       "    </tr>\n",
       "    <tr>\n",
       "      <th>2</th>\n",
       "      <td>Kansas City Royals</td>\n",
       "      <td>2019</td>\n",
       "      <td>990</td>\n",
       "      <td>105</td>\n",
       "      <td>45</td>\n",
       "      <td>106</td>\n",
       "      <td>954</td>\n",
       "      <td>8421.0</td>\n",
       "      <td>6</td>\n",
       "      <td>2807</td>\n",
       "      <td>...</td>\n",
       "      <td>543</td>\n",
       "      <td>5</td>\n",
       "      <td>816</td>\n",
       "      <td>24</td>\n",
       "      <td>4125</td>\n",
       "      <td>39</td>\n",
       "      <td>1.46</td>\n",
       "      <td>34</td>\n",
       "      <td>0.368</td>\n",
       "      <td>0</td>\n",
       "    </tr>\n",
       "    <tr>\n",
       "      <th>3</th>\n",
       "      <td>Houston Astros</td>\n",
       "      <td>2019</td>\n",
       "      <td>875</td>\n",
       "      <td>54</td>\n",
       "      <td>50</td>\n",
       "      <td>106</td>\n",
       "      <td>954</td>\n",
       "      <td>8589.0</td>\n",
       "      <td>6</td>\n",
       "      <td>2863</td>\n",
       "      <td>...</td>\n",
       "      <td>432</td>\n",
       "      <td>7</td>\n",
       "      <td>1074</td>\n",
       "      <td>27</td>\n",
       "      <td>3929</td>\n",
       "      <td>67</td>\n",
       "      <td>1.14</td>\n",
       "      <td>31</td>\n",
       "      <td>0.632</td>\n",
       "      <td>0</td>\n",
       "    </tr>\n",
       "    <tr>\n",
       "      <th>4</th>\n",
       "      <td>Tampa Bay Rays</td>\n",
       "      <td>2019</td>\n",
       "      <td>975</td>\n",
       "      <td>92</td>\n",
       "      <td>53</td>\n",
       "      <td>107</td>\n",
       "      <td>963</td>\n",
       "      <td>8760.0</td>\n",
       "      <td>11</td>\n",
       "      <td>2920</td>\n",
       "      <td>...</td>\n",
       "      <td>409</td>\n",
       "      <td>6</td>\n",
       "      <td>1037</td>\n",
       "      <td>26</td>\n",
       "      <td>3985</td>\n",
       "      <td>59</td>\n",
       "      <td>1.16</td>\n",
       "      <td>40</td>\n",
       "      <td>0.551</td>\n",
       "      <td>0</td>\n",
       "    </tr>\n",
       "  </tbody>\n",
       "</table>\n",
       "<p>5 rows × 55 columns</p>\n",
       "</div>"
      ],
      "text/plain": [
       "                   team  year     A   DP   E   G2  GS2     INN  PB    PO  \\\n",
       "0   St. Louis Cardinals  2019  1033  114  43  104  936  8313.0   3  2771   \n",
       "1  Arizona Diamondbacks  2019  1010   83  45  105  945  8538.0   2  2846   \n",
       "2    Kansas City Royals  2019   990  105  45  106  954  8421.0   6  2807   \n",
       "3        Houston Astros  2019   875   54  50  106  954  8589.0   6  2863   \n",
       "4        Tampa Bay Rays  2019   975   92  53  107  963  8760.0  11  2920   \n",
       "\n",
       "    ...      R1  SHO   SO1  SV   TBF   W  WHIP  WP   WPCT  winners  \n",
       "0   ...     456    4   895  33  3896  56  1.29  21  0.538        0  \n",
       "1   ...     472    7   925  24  4001  53  1.28  35  0.505        0  \n",
       "2   ...     543    5   816  24  4125  39  1.46  34  0.368        0  \n",
       "3   ...     432    7  1074  27  3929  67  1.14  31  0.632        0  \n",
       "4   ...     409    6  1037  26  3985  59  1.16  40  0.551        0  \n",
       "\n",
       "[5 rows x 55 columns]"
      ]
     },
     "execution_count": 7,
     "metadata": {},
     "output_type": "execute_result"
    }
   ],
   "source": [
    "team_data_1905 = pd.read_csv(\"../Resources/clean_data_1905.csv\")\n",
    "del team_data_1905[\"Unnamed: 0\"]\n",
    "team_data_1905.head()"
   ]
  },
  {
   "cell_type": "code",
   "execution_count": 8,
   "metadata": {},
   "outputs": [
    {
     "data": {
      "text/html": [
       "<div>\n",
       "<style scoped>\n",
       "    .dataframe tbody tr th:only-of-type {\n",
       "        vertical-align: middle;\n",
       "    }\n",
       "\n",
       "    .dataframe tbody tr th {\n",
       "        vertical-align: top;\n",
       "    }\n",
       "\n",
       "    .dataframe thead th {\n",
       "        text-align: right;\n",
       "    }\n",
       "</style>\n",
       "<table border=\"1\" class=\"dataframe\">\n",
       "  <thead>\n",
       "    <tr style=\"text-align: right;\">\n",
       "      <th></th>\n",
       "      <th>team</th>\n",
       "      <th>year</th>\n",
       "      <th>A</th>\n",
       "      <th>DP</th>\n",
       "      <th>E</th>\n",
       "      <th>G2</th>\n",
       "      <th>GS2</th>\n",
       "      <th>INN</th>\n",
       "      <th>PB</th>\n",
       "      <th>PO</th>\n",
       "      <th>...</th>\n",
       "      <th>SHO</th>\n",
       "      <th>SO1</th>\n",
       "      <th>SV</th>\n",
       "      <th>SVO</th>\n",
       "      <th>TBF</th>\n",
       "      <th>W</th>\n",
       "      <th>WHIP</th>\n",
       "      <th>WP</th>\n",
       "      <th>WPCT</th>\n",
       "      <th>winners</th>\n",
       "    </tr>\n",
       "  </thead>\n",
       "  <tbody>\n",
       "    <tr>\n",
       "      <th>0</th>\n",
       "      <td>St. Louis Cardinals</td>\n",
       "      <td>2019</td>\n",
       "      <td>1033</td>\n",
       "      <td>114</td>\n",
       "      <td>43</td>\n",
       "      <td>104</td>\n",
       "      <td>936</td>\n",
       "      <td>8313.0</td>\n",
       "      <td>3</td>\n",
       "      <td>2771</td>\n",
       "      <td>...</td>\n",
       "      <td>4</td>\n",
       "      <td>895</td>\n",
       "      <td>33</td>\n",
       "      <td>42</td>\n",
       "      <td>3896</td>\n",
       "      <td>56</td>\n",
       "      <td>1.29</td>\n",
       "      <td>21</td>\n",
       "      <td>0.538</td>\n",
       "      <td>0</td>\n",
       "    </tr>\n",
       "    <tr>\n",
       "      <th>1</th>\n",
       "      <td>Arizona Diamondbacks</td>\n",
       "      <td>2019</td>\n",
       "      <td>1010</td>\n",
       "      <td>83</td>\n",
       "      <td>45</td>\n",
       "      <td>105</td>\n",
       "      <td>945</td>\n",
       "      <td>8538.0</td>\n",
       "      <td>2</td>\n",
       "      <td>2846</td>\n",
       "      <td>...</td>\n",
       "      <td>7</td>\n",
       "      <td>925</td>\n",
       "      <td>24</td>\n",
       "      <td>37</td>\n",
       "      <td>4001</td>\n",
       "      <td>53</td>\n",
       "      <td>1.28</td>\n",
       "      <td>35</td>\n",
       "      <td>0.505</td>\n",
       "      <td>0</td>\n",
       "    </tr>\n",
       "    <tr>\n",
       "      <th>2</th>\n",
       "      <td>Kansas City Royals</td>\n",
       "      <td>2019</td>\n",
       "      <td>990</td>\n",
       "      <td>105</td>\n",
       "      <td>45</td>\n",
       "      <td>106</td>\n",
       "      <td>954</td>\n",
       "      <td>8421.0</td>\n",
       "      <td>6</td>\n",
       "      <td>2807</td>\n",
       "      <td>...</td>\n",
       "      <td>5</td>\n",
       "      <td>816</td>\n",
       "      <td>24</td>\n",
       "      <td>41</td>\n",
       "      <td>4125</td>\n",
       "      <td>39</td>\n",
       "      <td>1.46</td>\n",
       "      <td>34</td>\n",
       "      <td>0.368</td>\n",
       "      <td>0</td>\n",
       "    </tr>\n",
       "    <tr>\n",
       "      <th>3</th>\n",
       "      <td>Houston Astros</td>\n",
       "      <td>2019</td>\n",
       "      <td>875</td>\n",
       "      <td>54</td>\n",
       "      <td>50</td>\n",
       "      <td>106</td>\n",
       "      <td>954</td>\n",
       "      <td>8589.0</td>\n",
       "      <td>6</td>\n",
       "      <td>2863</td>\n",
       "      <td>...</td>\n",
       "      <td>7</td>\n",
       "      <td>1074</td>\n",
       "      <td>27</td>\n",
       "      <td>42</td>\n",
       "      <td>3929</td>\n",
       "      <td>67</td>\n",
       "      <td>1.14</td>\n",
       "      <td>31</td>\n",
       "      <td>0.632</td>\n",
       "      <td>0</td>\n",
       "    </tr>\n",
       "    <tr>\n",
       "      <th>4</th>\n",
       "      <td>Tampa Bay Rays</td>\n",
       "      <td>2019</td>\n",
       "      <td>975</td>\n",
       "      <td>92</td>\n",
       "      <td>53</td>\n",
       "      <td>107</td>\n",
       "      <td>963</td>\n",
       "      <td>8760.0</td>\n",
       "      <td>11</td>\n",
       "      <td>2920</td>\n",
       "      <td>...</td>\n",
       "      <td>6</td>\n",
       "      <td>1037</td>\n",
       "      <td>26</td>\n",
       "      <td>43</td>\n",
       "      <td>3985</td>\n",
       "      <td>59</td>\n",
       "      <td>1.16</td>\n",
       "      <td>40</td>\n",
       "      <td>0.551</td>\n",
       "      <td>0</td>\n",
       "    </tr>\n",
       "  </tbody>\n",
       "</table>\n",
       "<p>5 rows × 62 columns</p>\n",
       "</div>"
      ],
      "text/plain": [
       "                   team  year     A   DP   E   G2  GS2     INN  PB    PO  \\\n",
       "0   St. Louis Cardinals  2019  1033  114  43  104  936  8313.0   3  2771   \n",
       "1  Arizona Diamondbacks  2019  1010   83  45  105  945  8538.0   2  2846   \n",
       "2    Kansas City Royals  2019   990  105  45  106  954  8421.0   6  2807   \n",
       "3        Houston Astros  2019   875   54  50  106  954  8589.0   6  2863   \n",
       "4        Tampa Bay Rays  2019   975   92  53  107  963  8760.0  11  2920   \n",
       "\n",
       "    ...     SHO   SO1  SV  SVO   TBF   W  WHIP  WP   WPCT  winners  \n",
       "0   ...       4   895  33   42  3896  56  1.29  21  0.538        0  \n",
       "1   ...       7   925  24   37  4001  53  1.28  35  0.505        0  \n",
       "2   ...       5   816  24   41  4125  39  1.46  34  0.368        0  \n",
       "3   ...       7  1074  27   42  3929  67  1.14  31  0.632        0  \n",
       "4   ...       6  1037  26   43  3985  59  1.16  40  0.551        0  \n",
       "\n",
       "[5 rows x 62 columns]"
      ]
     },
     "execution_count": 8,
     "metadata": {},
     "output_type": "execute_result"
    }
   ],
   "source": [
    "team_data_1969 = pd.read_csv(\"../Resources/clean_data_1969.csv\")\n",
    "del team_data_1969[\"Unnamed: 0\"]\n",
    "team_data_1969.head()"
   ]
  },
  {
   "cell_type": "markdown",
   "metadata": {},
   "source": [
    "### STEP2: Graph winners v. not-winners."
   ]
  },
  {
   "cell_type": "code",
   "execution_count": 13,
   "metadata": {},
   "outputs": [],
   "source": [
    "# isolate winners and not-winners for both datasets.\n",
    "losers_1905 = team_data_1905.loc[team_data_1905[\"winners\"] == 0]\n",
    "winners_1905 = team_data_1905.loc[team_data_1905[\"winners\"] == 1]\n",
    "\n",
    "losers_1969 = team_data_1969.loc[team_data_1969[\"winners\"] == 0]\n",
    "winners_1969 = team_data_1969.loc[team_data_1969[\"winners\"] == 1]"
   ]
  },
  {
   "cell_type": "code",
   "execution_count": 14,
   "metadata": {
    "scrolled": true
   },
   "outputs": [
    {
     "data": {
      "image/png": "[encoded data removed]",
      "text/plain": [
       "<Figure size 432x288 with 1 Axes>"
      ]
     },
     "metadata": {
      "needs_background": "light"
     },
     "output_type": "display_data"
    }
   ],
   "source": [
    "# graph 1905.\n",
    "plt.bar([\"losers\", \"winners\"], [len(losers_1905), len(winners_1905)])\n",
    "plt.ylabel(\"Number of Teams\")\n",
    "plt.xlabel(\"State of World Series\")\n",
    "plt.title(\"Distribution of Winners/Losers of 1905 Dataset\");"
   ]
  },
  {
   "cell_type": "code",
   "execution_count": 18,
   "metadata": {},
   "outputs": [
    {
     "data": {
      "text/plain": [
       "4.59"
      ]
     },
     "execution_count": 18,
     "metadata": {},
     "output_type": "execute_result"
    }
   ],
   "source": [
    "# percent 1905.\n",
    "percent_1905 = round((len(winners_1905)/((len(winners_1905) + len(losers_1905)))) * 100, 2)\n",
    "percent_1905"
   ]
  },
  {
   "cell_type": "code",
   "execution_count": 15,
   "metadata": {},
   "outputs": [
    {
     "data": {
      "image/png": "[encoded data removed]",
      "text/plain": [
       "<Figure size 432x288 with 1 Axes>"
      ]
     },
     "metadata": {
      "needs_background": "light"
     },
     "output_type": "display_data"
    }
   ],
   "source": [
    "# graph 1969.\n",
    "plt.bar([\"losers\", \"winners\"], [len(losers_1969), len(winners_1969)])\n",
    "plt.ylabel(\"Number of Teams\")\n",
    "plt.xlabel(\"State of World Series\")\n",
    "plt.title(\"Distribution of Winners/Losers of 1969 Dataset\");"
   ]
  },
  {
   "cell_type": "code",
   "execution_count": 19,
   "metadata": {},
   "outputs": [
    {
     "data": {
      "text/plain": [
       "3.54"
      ]
     },
     "execution_count": 19,
     "metadata": {},
     "output_type": "execute_result"
    }
   ],
   "source": [
    "# percent 1969.\n",
    "percent_1969 = round((len(winners_1969)/((len(winners_1969) + len(losers_1969)))) * 100, 2)\n",
    "percent_1969"
   ]
  },
  {
   "cell_type": "markdown",
   "metadata": {},
   "source": [
    "### STEP3: Graph percent change for features."
   ]
  },
  {
   "cell_type": "code",
   "execution_count": 30,
   "metadata": {
    "scrolled": false
   },
   "outputs": [
    {
     "data": {
      "image/png": "[encoded data removed]",
      "text/plain": [
       "<Figure size 720x360 with 1 Axes>"
      ]
     },
     "metadata": {
      "needs_background": "light"
     },
     "output_type": "display_data"
    }
   ],
   "source": [
    "# 1905.\n",
    "grouped_1905 = team_data_1905.groupby(\"winners\")\n",
    "percent_change_1905 = grouped_1905.mean().pct_change().iloc[1, :]\n",
    "percent_change_1905.drop({\"year\"}, axis=0, inplace=True)\n",
    "\n",
    "ax = plt.figure(figsize=[10, 5])\n",
    "ax = sns.barplot(x=percent_change_1905.index, y=percent_change_1905)\n",
    "\n",
    "plt.xticks(rotation=90)\n",
    "plt.ylabel(\"Percent Change in Statistic\")\n",
    "plt.xlabel(\"Statistic\")\n",
    "plt.title(\"Percent Change in Statistic Between Winners and Losers - 1905\")\n",
    "plt.show()"
   ]
  },
  {
   "cell_type": "code",
   "execution_count": 33,
   "metadata": {},
   "outputs": [
    {
     "data": {
      "image/png": "[encoded data removed]",
      "text/plain": [
       "<Figure size 720x360 with 1 Axes>"
      ]
     },
     "metadata": {
      "needs_background": "light"
     },
     "output_type": "display_data"
    }
   ],
   "source": [
    "# 1969.\n",
    "grouped_1969 = team_data_1969.groupby(\"winners\")\n",
    "percent_change_1969 = grouped_1969.mean().pct_change().iloc[1, :]\n",
    "percent_change_1969.drop({\"year\"}, axis=0, inplace=True)\n",
    "\n",
    "ax = plt.figure(figsize=[10, 5])\n",
    "ax = sns.barplot(x=percent_change_1969.index, y=percent_change_1969)\n",
    "\n",
    "plt.xticks(rotation=90)\n",
    "plt.ylabel(\"Percent Change in Statistic\")\n",
    "plt.xlabel(\"Statistic\")\n",
    "plt.title(\"Percent Change in Statistic Between Winners and Losers - 1969\")\n",
    "plt.show()"
   ]
  },
  {
   "cell_type": "code",
   "execution_count": null,
   "metadata": {},
   "outputs": [],
   "source": []
  }
 ],
 "metadata": {
  "kernelspec": {
   "display_name": "Python [conda env:PythonData]",
   "language": "python",
   "name": "conda-env-PythonData-py"
  },
  "language_info": {
   "codemirror_mode": {
    "name": "ipython",
    "version": 3
   },
   "file_extension": ".py",
   "mimetype": "text/x-python",
   "name": "python",
   "nbconvert_exporter": "python",
   "pygments_lexer": "ipython3",
   "version": "3.6.7"
  }
 },
 "nbformat": 4,
 "nbformat_minor": 2
}
